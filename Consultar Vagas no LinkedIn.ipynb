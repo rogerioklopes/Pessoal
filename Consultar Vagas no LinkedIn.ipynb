{
  "nbformat": 4,
  "nbformat_minor": 0,
  "metadata": {
    "colab": {
      "provenance": [],
      "authorship_tag": "ABX9TyOGJY1W8bJWoBld3ZSM9W9s",
      "include_colab_link": true
    },
    "kernelspec": {
      "name": "python3",
      "display_name": "Python 3"
    },
    "language_info": {
      "name": "python"
    }
  },
  "cells": [
    {
      "cell_type": "markdown",
      "metadata": {
        "id": "view-in-github",
        "colab_type": "text"
      },
      "source": [
        "<a href=\"https://colab.research.google.com/github/rogerioklopes/Pessoal/blob/main/Consultar%20Vagas%20no%20LinkedIn.ipynb\" target=\"_parent\"><img src=\"https://colab.research.google.com/assets/colab-badge.svg\" alt=\"Open In Colab\"/></a>"
      ]
    },
    {
      "cell_type": "markdown",
      "source": [
        "**Automação**\n"
      ],
      "metadata": {
        "id": "nAPac0S7KzS-"
      }
    },
    {
      "cell_type": "code",
      "execution_count": null,
      "metadata": {
        "id": "JUnaRrtkJDom"
      },
      "outputs": [],
      "source": [
        "# Trazermos as bibliotecas do Python\n",
        "from requests import get\n",
        "from bs4 import BeautifulSoup\n",
        "import pandas as pd\n",
        "\n"
      ]
    },
    {
      "cell_type": "code",
      "source": [
        "# Gaveta\n",
        "nome_vaga = input(\"Digite o nome da vaga: \")\n",
        "nome_cidade = input(\"Digite a cidade: \")\n",
        "nome_estado = input(\"Digite o estado: \")\n",
        "nome_pais = input(\"Digite o país: \")\n",
        "numero_paginas = int( input(\"Quantas páginas quer buscar? \"))\n"
      ],
      "metadata": {
        "colab": {
          "base_uri": "https://localhost:8080/"
        },
        "id": "mKXf0uGZTv2U",
        "outputId": "849e8e88-f1a2-4c70-e6f1-305ddc3b62d9"
      },
      "execution_count": null,
      "outputs": [
        {
          "name": "stdout",
          "output_type": "stream",
          "text": [
            "Digite o nome da vaga: Analista de Dados\n",
            "Digite a cidade: Rio de Janeiro\n",
            "Digite o estado: Rio de Janeiro\n",
            "Digite o país: Brasil\n",
            "Quantas páginas quer buscar? 5\n"
          ]
        }
      ]
    },
    {
      "cell_type": "code",
      "source": [
        "# Tratamento dos espaços\n",
        "vaga_tratada = nome_vaga.replace(\" \", \"%20\")\n",
        "cidade_tratada = nome_cidade.replace(\" \", \"%20\")\n",
        "estado_tratada = nome_estado.replace(\" \", \"%20\")\n",
        "pais_tratado = nome_pais.replace(\" \", \"%20\")\n"
      ],
      "metadata": {
        "id": "5mkARkzvWrp5"
      },
      "execution_count": null,
      "outputs": []
    },
    {
      "cell_type": "code",
      "source": [
        "# Modificar a URL\n",
        "url = f'''https://www.linkedin.com/jobs/search?keywords={vaga_tratada}&location={cidade_tratada}%2C%20{estado_tratada}%2C%20{pais_tratado}&geoId=106701406&trk=public_jobs_jobs-search-bar_search-submit&position=1&pageNum={numero_paginas}'''\n"
      ],
      "metadata": {
        "id": "gM27bD8_jvpv"
      },
      "execution_count": null,
      "outputs": []
    },
    {
      "cell_type": "code",
      "source": [
        "url"
      ],
      "metadata": {
        "colab": {
          "base_uri": "https://localhost:8080/",
          "height": 53
        },
        "id": "qKC_6Rmr8NqA",
        "outputId": "d97148ac-0bf8-472b-b15a-da6215592f99"
      },
      "execution_count": null,
      "outputs": [
        {
          "output_type": "execute_result",
          "data": {
            "text/plain": [
              "'https://www.linkedin.com/jobs/search?keywords=Analista%20de%20Dados&location=Rio%20de%20Janeiro%2C%20Rio%20de%20Janeiro%2C%20Brasil&geoId=106701406&trk=public_jobs_jobs-search-bar_search-submit&position=1&pageNum=5'"
            ],
            "application/vnd.google.colaboratory.intrinsic+json": {
              "type": "string"
            }
          },
          "metadata": {},
          "execution_count": 138
        }
      ]
    },
    {
      "cell_type": "code",
      "source": [
        "# Baixar o conteúdo da página do LinkedIn\n",
        "response = get(url).text"
      ],
      "metadata": {
        "id": "BD88N6RpnBkw"
      },
      "execution_count": null,
      "outputs": []
    },
    {
      "cell_type": "code",
      "source": [
        "resposta_tratada = BeautifulSoup(response, \"html.parser\")"
      ],
      "metadata": {
        "id": "AaTnb9gCr1pH"
      },
      "execution_count": null,
      "outputs": []
    },
    {
      "cell_type": "code",
      "source": [
        "vagas = resposta_tratada.find_all(\"div\", class_ = \"base-card\")"
      ],
      "metadata": {
        "id": "1BHJ8jbitpLy"
      },
      "execution_count": null,
      "outputs": []
    },
    {
      "cell_type": "code",
      "source": [
        "for palavra in vagas:\n",
        "  print( palavra.find(\"h3\").text.strip())\n",
        "  print( palavra.find(\"h4\").text.strip())"
      ],
      "metadata": {
        "colab": {
          "base_uri": "https://localhost:8080/"
        },
        "id": "zWjRSijAxcSw",
        "outputId": "5ecb52cd-b352-4ae9-ebf1-645e884c516d"
      },
      "execution_count": null,
      "outputs": [
        {
          "output_type": "stream",
          "name": "stdout",
          "text": [
            "Analista de Dados / BI\n",
            "Rio de Janeiro - RJ e Híbrido\n",
            "Efetivo\n",
            "Beep Saúde\n",
            "Analista Junior de Processos e Tecnologia | Rio de Janeiro/RJ\n",
            "Deloitte\n",
            "Analista de Dados do Negócio JR\n",
            "Light\n",
            "Estágio Transformação Digital - Flamengo (RJ)\n",
            "B. Braun Group\n",
            "Analista em Apoio a Gestão| Rio de Janeiro - Híbrido\n",
            "Capco\n",
            "Estágio em Engenharia de Dados – Área Digital - Barra da Tijuca/RJ\n",
            "White Martins\n",
            "ANALISTA DE DADOS\n",
            "Light\n",
            "Analista de Dados / BI\n",
            "Beep Saúde\n",
            "Pessoa Estagiaria em Perdas\n",
            "Rio+Saneamento\n",
            "Estágio Produtos e Serviços - Flamengo (RJ)\n",
            "B. Braun Group\n",
            "Analista de Dados\n",
            "SysManager\n",
            "Analista de Processos | Rio de Janeiro - Híbrido\n",
            "Capco\n",
            "ANALISTA ADMINISTRATIVO JR\n",
            "Leve Saúde\n",
            "Analista de Dados Pleno | CRM, Dados & Plataforma\n",
            "americanas s.a.\n",
            "Analista Administrativo\n",
            "RINA\n",
            "Estagiário(a) de Melhoria Contínua e Projetos\n",
            "OceanPact Serviços Marítimos\n",
            "Analista de Cadastro\n",
            "Grupo Rocie\n",
            "Estágio em Engenharia de Dados – Área Digital - Barra da Tijuca/RJ\n",
            "White Martins\n",
            "Estágio em Ciência de Dados ( Rio de Janeiro ou São Paulo)\n",
            "Equinix\n",
            "Analista de Dados do Negócio SR\n",
            "Light\n",
            "Analista Administrativo\n",
            "Rio de Janeiro - RJ\n",
            "Efetivo\n",
            "MJV Technology & Innovation\n",
            "Analista de Dados\n",
            "Capemisa Seguradora\n",
            "Analista de Documentação - Rio de Janeiro/RJ\n",
            "Infotec Brasil\n",
            "Analista de Dados\n",
            "abler Vagas\n",
            "Analista de Business Intelligence\n",
            "Nova Saúde\n",
            "Data Strategy Intern\n",
            "VTEX\n",
            "FGV - ESTÁGIO - ADMINISTRAÇÃO OU ENGENHARIA DE PRODUÇÃO\n",
            "CIEE Rio\n",
            "Cientista de Dados Júnior\n",
            "Ipiranga\n",
            "Analista de Dados Internos / Híbrido - Rio de Janeiro\n",
            "Capco\n",
            "Analista de Dados Pleno - Planejamento e Controles do Ciclo de Receita - Corporativo RJ\n",
            "Rede D'Or São Luiz\n",
            "Analista de CRM\n",
            "Rio de Janeiro - RJ e Híbrido\n",
            "Efetivo\n",
            "Beep Saúde\n",
            "Analista de Dados Geoespaciais\n",
            "TotalEnergies\n",
            "Analista de Dados e Creative Data Jr\n",
            "Artplan\n",
            "Analista de Gestão de Dados Sênior\n",
            "BRAVA Energia\n",
            "Analista de Base de Dados / Híbrido - Rio de Janeiro\n",
            "Capco\n",
            "Analista BI\n",
            "Grupo Domingão\n",
            "Analista de Dados\n",
            "PRAMAR\n",
            "Analista de Controle de Documentos Pleno\n",
            "Urca Energia\n",
            "Analista de Desenv. de Novos Negócios Sr (Planejamento, Inteligência e Dados)\n",
            "Vibra\n",
            "Consultor Especialista em Processos II | Rio de Janeiro - Híbrido\n",
            "Capco\n",
            "Analista de Desenv. de Negócios Sr | Gestão, Performance e Dados\n",
            "Vibra\n",
            "Analista de Dados\n",
            "abler Vagas\n",
            "Consultor Especialista em Processos II | Rio de Janeiro - Híbrido\n",
            "Capco\n",
            "Analista de BI\n",
            "innolevels\n",
            "Estagiário(a) de Inteligência de Operações\n",
            "Grupo Arcca\n",
            "ANALISTA PLANEJAMENTO FINANCEIRO PL (FOCO EM ANÁLISE DE DADOS)\n",
            "Prudential Financial\n",
            "Analista de Processos I (Item 3) Girp\n",
            "Accerth Serviços e Tecnologia Ltda.\n",
            "Analista de Governança e Controle Pleno - Dados e Performance | Finanças, Jurídico e Infraestrutura\n",
            "Globo\n",
            "Analista de Projetos e Business Intelligence\n",
            "HStern\n",
            "ANALISTA DE INTELIGÊNCIA DE MERCADO E DESEMPENHO\n",
            "Minas Verde  John Deere\n",
            "Estagiário(a) de Inovação (IA) - Rio de Janeiro\n",
            "OceanPact Serviços Marítimos\n",
            "Analista de Dados - Tipo 2 (Item 9)\n",
            "Accerth Serviços e Tecnologia Ltda.\n",
            "Analista de Dados Pleno-Sênior\n",
            "Faculdade Mar Atlântico\n",
            "NV | Analista de BI II | E-commerce\n",
            "NV\n",
            "PESSOA ANALISTA DE RELACIONAMENTO PLENO - FOCO EM DADOS\n",
            "YDUQS\n",
            "ANALISTA DE AUTOMAÇÃO E DADOS DA OPERAÇÃO\n",
            "NIP do Brasil\n",
            "Analista Sr - Qualidade (Gestão de Dados) - Corporativo RJ\n",
            "Rede D'Or São Luiz\n",
            "Performance Analyst - Consultor\n",
            "TIM Brasil\n",
            "Estágio em Estatística, Administração ou Eng. de Produção\n",
            "abler Vagas\n"
          ]
        }
      ]
    },
    {
      "cell_type": "code",
      "source": [
        "vagas"
      ],
      "metadata": {
        "id": "tH6JgMpb-ayR"
      },
      "execution_count": null,
      "outputs": []
    }
  ]
}